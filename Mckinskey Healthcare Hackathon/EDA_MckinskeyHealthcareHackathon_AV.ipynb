{
 "cells": [
  {
   "cell_type": "code",
   "execution_count": 3,
   "metadata": {
    "collapsed": false
   },
   "outputs": [
   ],
   "source": [
    "import pandas as pd\n",
    "import seaborn as sns\n",
    "import matplotlib.pyplot as plt\n",
    "import numpy as np\n",
    "import warnings\n",
    "warnings.filterwarnings(\"ignore\")\n"
   ]
  },
  {
   "cell_type": "code",
   "execution_count": 5,
   "metadata": {
    "collapsed": false
   },
   "outputs": [
   ],
   "source": [
    "train = pd.read_csv('train.csv')\n",
    "test = pd.read_csv('test.csv')\n",
    "combined = pd.concat([train,test])"
   ]
  },
  {
   "cell_type": "code",
   "execution_count": 5,
   "metadata": {
    "collapsed": false
   },
   "outputs": [
    {
     "name": "stdout",
     "output_type": "stream",
     "text": [
      "Index(['id', 'gender', 'age', 'hypertension', 'heart_disease', 'ever_married',\n",
      "       'work_type', 'Residence_type', 'avg_glucose_level', 'bmi',\n",
      "       'smoking_status', 'stroke'],\n",
      "      dtype='object')\n"
     ]
    }
   ],
   "source": [
    "# Look at different attributes available in the dataset\n",
    "print(train.columns)"
   ]
  },
  {
   "cell_type": "code",
   "execution_count": 11,
   "metadata": {
    "collapsed": false
   },
   "outputs": [
    {
     "name": "stdout",
     "output_type": "stream",
     "text": [
      "Missing % of attributes in Train\n",
      "id                    0.000000\n",
      "gender                0.000000\n",
      "age                   0.000000\n",
      "hypertension          0.000000\n",
      "heart_disease         0.000000\n",
      "ever_married          0.000000\n",
      "work_type             0.000000\n",
      "Residence_type        0.000000\n",
      "avg_glucose_level     0.000000\n",
      "bmi                   3.368664\n",
      "smoking_status       30.626728\n",
      "stroke                0.000000\n",
      "dtype: float64\n",
      "Missing % of attributes in Test\n",
      "id                    0.000000\n",
      "gender                0.000000\n",
      "age                   0.000000\n",
      "hypertension          0.000000\n",
      "heart_disease         0.000000\n",
      "ever_married          0.000000\n",
      "work_type             0.000000\n",
      "Residence_type        0.000000\n",
      "avg_glucose_level     0.000000\n",
      "bmi                   3.177249\n",
      "smoking_status       30.917693\n",
      "dtype: float64\n"
     ]
    }
   ],
   "source": [
    "# Look at missing values percentage for each attribute\n",
    "print(\"Missing % of attributes in Train\")\n",
    "print( train.apply(lambda x: x.isnull().sum()*100.0/len(train),axis=0) )\n",
    "print(\"Missing % of attributes in Test\")\n",
    "print( test.apply(lambda x: x.isnull().sum()*100.0/len(test),axis=0) )"
   ]
  },
  {
   "cell_type": "code",
   "execution_count": 13,
   "metadata": {
    "collapsed": false
   },
   "outputs": [
   ],
   "source": [
    "# Note that some BMI and Smoking_Status values are missing from both the train and test set\n",
    "# These must be imputed\n"
   ]
  },
  {
   "cell_type": "code",
   "execution_count": 15,
   "metadata": {
    "collapsed": false
   },
   "outputs": [
    {
     "name": "stdout",
     "output_type": "stream",
     "text": [
      "Missing % of attributes in Train\n"
     ]
    },
    {
     "name": "stdout",
     "output_type": "stream",
     "text": [
      "0.330138248848\n",
      "Missing % of attributes in Test\n"
     ]
    },
    {
     "name": "stdout",
     "output_type": "stream",
     "text": [
      "0.332132681039\n"
     ]
    }
   ],
   "source": [
    "# Look at percentage of rows having atleast one missing value\n",
    "print(\"Missing % of attributes in Train\")\n",
    "print(train.apply(lambda x: 1 if x.isnull().sum() > 0 else 0,axis=1).sum() /len(train))\n",
    "print(\"Missing % of attributes in Test\")\n",
    "print(test.apply(lambda x: 1 if x.isnull().sum() > 0 else 0,axis=1).sum() / len(test))"
   ]
  },
  {
   "cell_type": "code",
   "execution_count": 0,
   "metadata": {
    "collapsed": false
   },
   "outputs": [
   ],
   "source": [
    "# ~33% rows have missing values in both train and test set and so we cannot simply ignore missing rows"
   ]
  },
  {
   "cell_type": "code",
   "execution_count": 16,
   "metadata": {
    "collapsed": false
   },
   "outputs": [
    {
     "name": "stdout",
     "output_type": "stream",
     "text": [
      "0    98.195853\n",
      "1     1.804147\n",
      "Name: stroke, dtype: float64\n"
     ]
    }
   ],
   "source": [
    "# Percentage of patients who have a stroke\n",
    "print(train.stroke.value_counts() * 100.0 / len(train))"
   ]
  },
  {
   "cell_type": "code",
   "execution_count": 17,
   "metadata": {
    "collapsed": false
   },
   "outputs": [
   ],
   "source": [
    "# Dataset is highly imbalanced as only ~1.8% samples with class 1\n",
    "# Let's look at the distribution of individual attributes and how they affect the dependent variable 'stroke'"
   ]
  },
  {
   "cell_type": "code",
   "execution_count": 31,
   "metadata": {
    "collapsed": false
   },
   "outputs": [
    {
     "name": "stdout",
     "output_type": "stream",
     "text": [
      "Possible Values\n",
      "[0 1]\n",
      "0    95.248848\n",
      "1     4.751152\n",
      "Name: heart_disease, dtype: float64\n",
      "               count      mean\n",
      "heart_disease                 \n",
      "0              41338  0.014660\n",
      "1               2062  0.085839\n"
     ]
    }
   ],
   "source": [
    "# Heart Disease\n",
    "print('Possible Values')\n",
    "print(train.heart_disease.unique())\n",
    "# % of patients having heart-disease\n",
    "print( train.heart_disease.value_counts() * 100.0 / len(train) )\n",
    "# Look at stroke values pivoted by heart-disease\n",
    "print(train.pivot_table(index='heart_disease',values='stroke',aggfunc=('mean','count')))"
   ]
  },
  {
   "cell_type": "code",
   "execution_count": 30,
   "metadata": {
    "collapsed": false
   },
   "outputs": [
    {
     "name": "stdout",
     "output_type": "stream",
     "text": [
      "[0 1]\n",
      "0    90.642857\n",
      "1     9.357143\n",
      "Name: hypertension, dtype: float64\n",
      "              count      mean\n",
      "hypertension                 \n",
      "0             39339  0.014820\n",
      "1              4061  0.049249\n"
     ]
    }
   ],
   "source": [
    "# Hypertension\n",
    "print('Possible Values')\n",
    "print(train.hypertension.unique())\n",
    "# % of patients having hypertension\n",
    "print( train.hypertension.value_counts() * 100.0 / len(train) )\n",
    "# Look at stroke values pivoted by hypertension\n",
    "print(train.pivot_table(index='hypertension',values='stroke',aggfunc=('mean','count')))"
   ]
  },
  {
   "cell_type": "code",
   "execution_count": 24,
   "metadata": {
    "collapsed": false
   },
   "outputs": [
    {
     "data": {
      "image/png": "[encoded data removed]"
     },
     "execution_count": 24,
     "metadata": {
      "image/png": {
       "height": 263,
       "width": 393
      }
     },
     "output_type": "execute_result"
    }
   ],
   "source": [
    "# Age\n",
    "# Distribution Of Age\n",
    "sns.distplot(train.age,bins=100)\n",
    "plt.show()\n",
    "# Age is fairly evenly distributed in the age group of 0-80"
   ]
  },
  {
   "cell_type": "code",
   "execution_count": 29,
   "metadata": {
    "collapsed": false
   },
   "outputs": [
    {
     "data": {
      "image/png": "[encoded data removed]"
     },
     "execution_count": 29,
     "metadata": {
      "image/png": {
       "height": 250,
       "width": 388
      }
     },
     "output_type": "execute_result"
    }
   ],
   "source": [
    "# Plot mean stroke rate grouped by age\n",
    "ageData = train.pivot_table(index=np.round(train.age),values='stroke',aggfunc=('mean','count'))\n",
    "plt.scatter(ageData.index,ageData['mean'])\n",
    "plt.show()\n",
    "# Clearly, increase in age exponentially increases the risk of having a stroke\n",
    "# Also note that below the age of 30, the risk of stroke is almost certainly 0"
   ]
  },
  {
   "cell_type": "code",
   "execution_count": 33,
   "metadata": {
    "collapsed": false
   },
   "outputs": [
    {
     "name": "stdout",
     "output_type": "stream",
     "text": [
      "Possible Values\n",
      "['Male' 'Female' 'Other']\n",
      "% of patients for each gender\n",
      "Female    59.135945\n",
      "Male      40.838710\n",
      "Other      0.025346\n",
      "Name: gender, dtype: float64\n",
      "Look at stroke values pivoted by gender\n"
     ]
    },
    {
     "data": {
      "text/html": [
       "<div>\n",
       "<style scoped>\n",
       "    .dataframe tbody tr th:only-of-type {\n",
       "        vertical-align: middle;\n",
       "    }\n",
       "\n",
       "    .dataframe tbody tr th {\n",
       "        vertical-align: top;\n",
       "    }\n",
       "\n",
       "    .dataframe thead th {\n",
       "        text-align: right;\n",
       "    }\n",
       "</style>\n",
       "<table border=\"1\" class=\"dataframe\">\n",
       "  <thead>\n",
       "    <tr style=\"text-align: right;\">\n",
       "      <th></th>\n",
       "      <th>count</th>\n",
       "      <th>mean</th>\n",
       "    </tr>\n",
       "    <tr>\n",
       "      <th>gender</th>\n",
       "      <th></th>\n",
       "      <th></th>\n",
       "    </tr>\n",
       "  </thead>\n",
       "  <tbody>\n",
       "    <tr>\n",
       "      <th>Female</th>\n",
       "      <td>25665</td>\n",
       "      <td>0.016793</td>\n",
       "    </tr>\n",
       "    <tr>\n",
       "      <th>Male</th>\n",
       "      <td>17724</td>\n",
       "      <td>0.019860</td>\n",
       "    </tr>\n",
       "    <tr>\n",
       "      <th>Other</th>\n",
       "      <td>11</td>\n",
       "      <td>0.000000</td>\n",
       "    </tr>\n",
       "  </tbody>\n",
       "</table>\n",
       "</div>"
      ]
     },
     "execution_count": 33,
     "metadata": {
     },
     "output_type": "execute_result"
    }
   ],
   "source": [
    "# Gender\n",
    "print('Possible Values')\n",
    "print(train.gender.unique())\n",
    "print(\"% of patients for each gender\")\n",
    "print( train.gender.value_counts() * 100.0 / len(train) )\n",
    "print(\"Look at stroke values pivoted by gender\")\n",
    "train.pivot_table(index='gender',values='stroke',aggfunc=('mean','count'))\n",
    "# Males seem to have a higher risk on average. However, difference is not too profound"
   ]
  },
  {
   "cell_type": "code",
   "execution_count": 35,
   "metadata": {
    "collapsed": false
   },
   "outputs": [
    {
     "name": "stdout",
     "output_type": "stream",
     "text": [
      "Possible Values\n",
      "['children' 'Private' 'Never_worked' 'Self-employed' 'Govt_job']\n",
      "% of patients for each work-type\n",
      "Private          57.221198\n",
      "Self-employed    15.652074\n",
      "children         14.184332\n",
      "Govt_job         12.534562\n",
      "Never_worked      0.407834\n",
      "Name: work_type, dtype: float64\n",
      "Look at stroke values pivoted by work_type\n"
     ]
    },
    {
     "data": {
      "text/html": [
       "<div>\n",
       "<style scoped>\n",
       "    .dataframe tbody tr th:only-of-type {\n",
       "        vertical-align: middle;\n",
       "    }\n",
       "\n",
       "    .dataframe tbody tr th {\n",
       "        vertical-align: top;\n",
       "    }\n",
       "\n",
       "    .dataframe thead th {\n",
       "        text-align: right;\n",
       "    }\n",
       "</style>\n",
       "<table border=\"1\" class=\"dataframe\">\n",
       "  <thead>\n",
       "    <tr style=\"text-align: right;\">\n",
       "      <th></th>\n",
       "      <th>count</th>\n",
       "      <th>mean</th>\n",
       "    </tr>\n",
       "    <tr>\n",
       "      <th>work_type</th>\n",
       "      <th></th>\n",
       "      <th></th>\n",
       "    </tr>\n",
       "  </thead>\n",
       "  <tbody>\n",
       "    <tr>\n",
       "      <th>Govt_job</th>\n",
       "      <td>5440</td>\n",
       "      <td>0.016360</td>\n",
       "    </tr>\n",
       "    <tr>\n",
       "      <th>Never_worked</th>\n",
       "      <td>177</td>\n",
       "      <td>0.000000</td>\n",
       "    </tr>\n",
       "    <tr>\n",
       "      <th>Private</th>\n",
       "      <td>24834</td>\n",
       "      <td>0.017758</td>\n",
       "    </tr>\n",
       "    <tr>\n",
       "      <th>Self-employed</th>\n",
       "      <td>6793</td>\n",
       "      <td>0.036950</td>\n",
       "    </tr>\n",
       "    <tr>\n",
       "      <th>children</th>\n",
       "      <td>6156</td>\n",
       "      <td>0.000325</td>\n",
       "    </tr>\n",
       "  </tbody>\n",
       "</table>\n",
       "</div>"
      ]
     },
     "execution_count": 35,
     "metadata": {
     },
     "output_type": "execute_result"
    }
   ],
   "source": [
    "# Work Type\n",
    "print('Possible Values')\n",
    "print(train.work_type.unique())\n",
    "print(\"% of patients for each work-type\")\n",
    "print( train.work_type.value_counts() * 100.0 / len(train) )\n",
    "print(\"Look at stroke values pivoted by work_type\")\n",
    "train.pivot_table(index='work_type',values='stroke',aggfunc=('mean','count'))\n",
    "# The never worked category most probably includes children and hence the low stroke risk.There is a difference in risk of stroke for each group\n",
    "# but according to studies this is not a relevant feature. Will use this a see if it helps in the final model"
   ]
  },
  {
   "cell_type": "code",
   "execution_count": 36,
   "metadata": {
    "collapsed": false
   },
   "outputs": [
    {
     "name": "stdout",
     "output_type": "stream",
     "text": [
      "Possible Values\n",
      "['Rural' 'Urban']\n",
      "% of patients for each residence-type\n",
      "Urban    50.129032\n",
      "Rural    49.870968\n",
      "Name: Residence_type, dtype: float64\n",
      "Look at stroke values pivoted by residence_type\n"
     ]
    },
    {
     "data": {
      "text/html": [
       "<div>\n",
       "<style scoped>\n",
       "    .dataframe tbody tr th:only-of-type {\n",
       "        vertical-align: middle;\n",
       "    }\n",
       "\n",
       "    .dataframe tbody tr th {\n",
       "        vertical-align: top;\n",
       "    }\n",
       "\n",
       "    .dataframe thead th {\n",
       "        text-align: right;\n",
       "    }\n",
       "</style>\n",
       "<table border=\"1\" class=\"dataframe\">\n",
       "  <thead>\n",
       "    <tr style=\"text-align: right;\">\n",
       "      <th></th>\n",
       "      <th>count</th>\n",
       "      <th>mean</th>\n",
       "    </tr>\n",
       "    <tr>\n",
       "      <th>Residence_type</th>\n",
       "      <th></th>\n",
       "      <th></th>\n",
       "    </tr>\n",
       "  </thead>\n",
       "  <tbody>\n",
       "    <tr>\n",
       "      <th>Rural</th>\n",
       "      <td>21644</td>\n",
       "      <td>0.017742</td>\n",
       "    </tr>\n",
       "    <tr>\n",
       "      <th>Urban</th>\n",
       "      <td>21756</td>\n",
       "      <td>0.018340</td>\n",
       "    </tr>\n",
       "  </tbody>\n",
       "</table>\n",
       "</div>"
      ]
     },
     "execution_count": 36,
     "metadata": {
     },
     "output_type": "execute_result"
    }
   ],
   "source": [
    "# Residence Type\n",
    "print('Possible Values')\n",
    "print(train.Residence_type.unique())\n",
    "print(\"% of patients for each residence-type\")\n",
    "print( train.Residence_type.value_counts() * 100.0 / len(train) )\n",
    "print(\"Look at stroke values pivoted by residence_type\")\n",
    "train.pivot_table(index='Residence_type',values='stroke',aggfunc=('mean','count'))\n",
    "# Again, not an important factor according to studies and mean is almost te same, doesn't seem relevant"
   ]
  },
  {
   "cell_type": "code",
   "execution_count": 38,
   "metadata": {
    "collapsed": false
   },
   "outputs": [
    {
     "name": "stdout",
     "output_type": "stream",
     "text": [
      "Possible Values\n",
      "['No' 'Yes']\n",
      "% of patients for each ever_married\n",
      "Yes    64.373272\n",
      "No     35.626728\n",
      "Name: ever_married, dtype: float64\n",
      "Look at stroke values pivoted by ever-married\n"
     ]
    },
    {
     "data": {
      "text/html": [
       "<div>\n",
       "<style scoped>\n",
       "    .dataframe tbody tr th:only-of-type {\n",
       "        vertical-align: middle;\n",
       "    }\n",
       "\n",
       "    .dataframe tbody tr th {\n",
       "        vertical-align: top;\n",
       "    }\n",
       "\n",
       "    .dataframe thead th {\n",
       "        text-align: right;\n",
       "    }\n",
       "</style>\n",
       "<table border=\"1\" class=\"dataframe\">\n",
       "  <thead>\n",
       "    <tr style=\"text-align: right;\">\n",
       "      <th></th>\n",
       "      <th>count</th>\n",
       "      <th>mean</th>\n",
       "    </tr>\n",
       "    <tr>\n",
       "      <th>ever_married</th>\n",
       "      <th></th>\n",
       "      <th></th>\n",
       "    </tr>\n",
       "  </thead>\n",
       "  <tbody>\n",
       "    <tr>\n",
       "      <th>No</th>\n",
       "      <td>15462</td>\n",
       "      <td>0.005174</td>\n",
       "    </tr>\n",
       "    <tr>\n",
       "      <th>Yes</th>\n",
       "      <td>27938</td>\n",
       "      <td>0.025163</td>\n",
       "    </tr>\n",
       "  </tbody>\n",
       "</table>\n",
       "</div>"
      ]
     },
     "execution_count": 38,
     "metadata": {
     },
     "output_type": "execute_result"
    }
   ],
   "source": [
    "# Ever Married\n",
    "print('Possible Values')\n",
    "print(train.ever_married.unique())\n",
    "print(\"% of patients for each ever_married\")\n",
    "print( train.ever_married.value_counts() * 100.0 / len(train) )\n",
    "print(\"Look at stroke values pivoted by ever-married\")\n",
    "train.pivot_table(index='ever_married',values='stroke',aggfunc=('mean','count'))\n",
    "# Seems that people who have married have a higher risk of stroke. But this may well be a confounding factor as married people tend to be older and increase in age leads to increased risk stroke rate as we saw earlier\n",
    "# Also, not an important feature according to studies"
   ]
  },
  {
   "cell_type": "code",
   "execution_count": 39,
   "metadata": {
    "collapsed": false
   },
   "outputs": [
    {
     "data": {
      "image/png": "[encoded data removed]"
     },
     "execution_count": 39,
     "metadata": {
      "image/png": {
       "height": 264,
       "width": 393
      }
     },
     "output_type": "execute_result"
    }
   ],
   "source": [
    "# Average Glucose Level\n",
    "# Distribution Of Avg. Glucose Level\n",
    "sns.distplot(train.avg_glucose_level,bins=100)\n",
    "plt.show()"
   ]
  },
  {
   "cell_type": "code",
   "execution_count": 40,
   "metadata": {
    "collapsed": false
   },
   "outputs": [
    {
     "data": {
      "image/png": "[encoded data removed]"
     },
     "execution_count": 40,
     "metadata": {
      "image/png": {
       "height": 250,
       "width": 384
      }
     },
     "output_type": "execute_result"
    }
   ],
   "source": [
    "# Plot mean stroke rate grouped by average glucose level\n",
    "glucoseData = train.pivot_table(index=np.round(train.avg_glucose_level),values='stroke',aggfunc=('mean','count'))\n",
    "plt.scatter(glucoseData.index,glucoseData['mean'])\n",
    "plt.show()\n",
    "# We see an increase risk of stroke with increase in glucose levels\n",
    "# It would be important to impute these missing values"
   ]
  },
  {
   "cell_type": "code",
   "execution_count": 41,
   "metadata": {
    "collapsed": false
   },
   "outputs": [
    {
     "name": "stdout",
     "output_type": "stream",
     "text": [
      "Possible Values\n",
      "[nan 'never smoked' 'formerly smoked' 'smokes']\n",
      "% of patients for each smoking-status\n",
      "never smoked       36.988479\n",
      "formerly smoked    17.264977\n",
      "smokes             15.119816\n",
      "Name: smoking_status, dtype: float64\n",
      "Look at stroke values pivoted by smoking_status\n"
     ]
    },
    {
     "data": {
      "text/html": [
       "<div>\n",
       "<style scoped>\n",
       "    .dataframe tbody tr th:only-of-type {\n",
       "        vertical-align: middle;\n",
       "    }\n",
       "\n",
       "    .dataframe tbody tr th {\n",
       "        vertical-align: top;\n",
       "    }\n",
       "\n",
       "    .dataframe thead th {\n",
       "        text-align: right;\n",
       "    }\n",
       "</style>\n",
       "<table border=\"1\" class=\"dataframe\">\n",
       "  <thead>\n",
       "    <tr style=\"text-align: right;\">\n",
       "      <th></th>\n",
       "      <th>count</th>\n",
       "      <th>mean</th>\n",
       "    </tr>\n",
       "    <tr>\n",
       "      <th>smoking_status</th>\n",
       "      <th></th>\n",
       "      <th></th>\n",
       "    </tr>\n",
       "  </thead>\n",
       "  <tbody>\n",
       "    <tr>\n",
       "      <th>formerly smoked</th>\n",
       "      <td>7493</td>\n",
       "      <td>0.029494</td>\n",
       "    </tr>\n",
       "    <tr>\n",
       "      <th>never smoked</th>\n",
       "      <td>16053</td>\n",
       "      <td>0.017691</td>\n",
       "    </tr>\n",
       "    <tr>\n",
       "      <th>smokes</th>\n",
       "      <td>6562</td>\n",
       "      <td>0.020268</td>\n",
       "    </tr>\n",
       "  </tbody>\n",
       "</table>\n",
       "</div>"
      ]
     },
     "execution_count": 41,
     "metadata": {
     },
     "output_type": "execute_result"
    }
   ],
   "source": [
    "# Smoking Status\n",
    "print('Possible Values')\n",
    "print(train.smoking_status.unique())\n",
    "print(\"% of patients for each smoking-status\")\n",
    "print( train.smoking_status.value_counts() * 100.0 / len(train) )\n",
    "print(\"Look at stroke values pivoted by smoking_status\")\n",
    "train.pivot_table(index='smoking_status',values='stroke',aggfunc=('mean','count'))\n",
    "# Having smoked seems to affect the risk of stroke. It would be important to impute missing values for these"
   ]
  },
  {
   "cell_type": "code",
   "execution_count": 42,
   "metadata": {
    "collapsed": false
   },
   "outputs": [
   ],
   "source": [
    "# Based on a rudimentary analysis of each of the feature and some studies I went through, it seems that the following features should have a role to # play:\n",
    "# - BMI\n",
    "# - Smoking Status\n",
    "# - Average Glucose Levels\n",
    "# - Age\n",
    "# - Gender\n",
    "# - Work Type"
   ]
  },
  {
   "cell_type": "code",
   "execution_count": 6,
   "metadata": {
    "collapsed": false
   },
   "outputs": [
    {
     "data": {
      "image/png": "[encoded data removed]"
     },
     "execution_count": 6,
     "metadata": {
      "image/png": {
       "height": 263,
       "width": 380
      }
     },
     "output_type": "execute_result"
    }
   ],
   "source": [
    "# Let's start by imputing missing values\n",
    "# For this I considered the combined train and test set data\n",
    "# Let's look at which age group has misssing values for smoking_status\n",
    "sns.distplot(combined[combined.smoking_status.isnull()].age)\n",
    "plt.show()\n",
    "# smoketab = pd.crosstab([combined.gender, np.round(combined.age, -1)], combined.smoking_status).apply(lambda x: x / x.sum(), axis=1)\n",
    "# print(smoketab)"
   ]
  },
  {
   "cell_type": "code",
   "execution_count": 8,
   "metadata": {
    "collapsed": false
   },
   "outputs": [
   ],
   "source": [
    "# we can see a major chunk of missing values is in the 0-20 age group. These are mostly teenagers and children.\n",
    "# Being on a conservative side, I imputed smoking_status of patients less than 10 years of age as 'never smoked'. Reasonable assumption.\n",
    "combined.loc[combined.age < 10,'smoking_status'] = 'never smoked'"
   ]
  },
  {
   "cell_type": "code",
   "execution_count": 9,
   "metadata": {
    "collapsed": false
   },
   "outputs": [
    {
     "name": "stdout",
     "output_type": "stream",
     "text": [
      "smoking_status  formerly smoked  never smoked    smokes\n",
      "gender age                                             \n",
      "Female 0.0             0.000000      1.000000  0.000000\n",
      "       10.0            0.047619      0.943537  0.008844\n",
      "       20.0            0.134809      0.675769  0.189422\n",
      "       30.0            0.179197      0.564807  0.255996\n",
      "       40.0            0.187843      0.584156  0.228001\n",
      "       50.0            0.226199      0.531462  0.242339\n",
      "       60.0            0.272867      0.537819  0.189314\n",
      "       70.0            0.325534      0.513917  0.160549\n",
      "       80.0            0.321608      0.584461  0.093931\n",
      "Male   0.0             0.000000      1.000000  0.000000\n",
      "       10.0            0.043507      0.950560  0.005933\n",
      "       20.0            0.130457      0.672557  0.196985\n",
      "       30.0            0.179721      0.491953  0.328326\n",
      "       40.0            0.206071      0.505357  0.288571\n",
      "       50.0            0.254754      0.446358  0.298888\n",
      "       60.0            0.352091      0.406560  0.241348\n",
      "       70.0            0.437563      0.349239  0.213198\n",
      "       80.0            0.509977      0.339789  0.150235\n",
      "Other  10.0            0.500000      0.500000  0.000000\n",
      "       20.0            1.000000      0.000000  0.000000\n",
      "       30.0            0.500000      0.000000  0.500000\n",
      "       40.0            1.000000      0.000000  0.000000\n",
      "       50.0            0.333333      0.666667  0.000000\n"
     ]
    }
   ],
   "source": [
    "# I then decided to look at the average percentage of patients in each category based on age and gender\n",
    "smoketab = pd.crosstab([combined.gender, np.round(combined.age, -1)], combined.smoking_status).apply(lambda x: x / x.sum(), axis=1)\n",
    "print(smoketab)\n"
   ]
  },
  {
   "cell_type": "code",
   "execution_count": 10,
   "metadata": {
    "collapsed": false
   },
   "outputs": [
   ],
   "source": [
    "# We can clearly see some categories to be more prominent for certain groups. For example, percentage of never smoked patients is decreasing with an increase in age group. Also, in the 30-40 age group, men seem to smoke more.\n",
    "# So, for each patient with missing smoke_status value, I indexed into the appropriate age and gender group and picked the category with the maximum percetange of population. So, basically a group-wise mode!\n",
    "combined.smoking_status = combined.apply(lambda x: np.argmax(smoketab.loc[x['gender']].loc[int(np.round(x['age'],-1))]),axis=1)"
   ]
  },
  {
   "cell_type": "code",
   "execution_count": 0,
   "metadata": {
    "collapsed": false
   },
   "outputs": [
   ],
   "source": [
    "# For BMI I followed a similar approach. I grouped by age and took the median of each group ( considering that some BMI values appeared to be outliers ie. > 60 or something)\n",
    "# Age and gender based grouping was also an option, but I didn't use that during the contest\n",
    "bmiByAge = combined[~combined.bmi.isnull()].pivot_table(index=np.round(combined[~combined.bmi.isnull()].age,-1),values='bmi',aggfunc='median')\n",
    "combined.loc[combined.bmi.isnull(),'bmi'] = combined[combined.bmi.isnull()].apply(lambda x: bmiByAge.loc[int(np.round(x['age'],-1))],axis=1)\n"
   ]
  },
  {
   "cell_type": "code",
   "execution_count": 12,
   "metadata": {
    "collapsed": false
   },
   "outputs": [
   ],
   "source": [
    "# HTpHD - New Feature\n",
    "# I introduced a feature which is the sum of heart_disease and hypertension variables\n",
    "# Intuition was to create a variable to indicate the severeness of diseases\n",
    "combined.loc[:, 'HTpHD'] = combined.heart_disease + combined.hypertension\n"
   ]
  },
  {
   "cell_type": "code",
   "execution_count": 16,
   "metadata": {
    "collapsed": false
   },
   "outputs": [
   ],
   "source": [
    "# Modelling: Feature selection and paramter tuning\n",
    "# I picked logistic regression, xgboost trees and a catboost model for prediction.\n",
    "# Parameters were tuned using randomized search and 5-fold cross-validation\n",
    "# Features were selected based on whether they led to an increase in validation accuracy\n",
    "# Selected Features: ['smoking_status','age','heart_disease','hypertension','HTpHD','avg_glucose_level','gender']\n",
    "# Average of the best performing models for each classifier was taken as the final output\n",
    "# (Python code for the modelling part is present in the Git repository)"
   ]
  },
  {
   "cell_type": "code",
   "execution_count": 0,
   "metadata": {
    "collapsed": false
   },
   "outputs": [
   ],
   "source": [
   ]
  }
 ],
 "metadata": {
  "kernelspec": {
   "display_name": "Python 3 (Anaconda)",
   "language": "python",
   "name": "anaconda3"
  }
 },
 "nbformat": 4,
 "nbformat_minor": 0
}